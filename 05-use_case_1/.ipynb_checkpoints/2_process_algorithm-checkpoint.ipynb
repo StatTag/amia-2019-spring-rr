{
 "cells": [
  {
   "cell_type": "markdown",
   "metadata": {},
   "source": [
    "## NOTE: this is for demo purposes ONLY. \n",
    "The implementation takes liberties with both value sets AND logic, so do NOT assume this is \"correct\". We're mainly using this to show data prep\n",
    "\n",
    "## OBJECTIVE: Implement the Northwestern Type 2 Diabetes Mellitus phenotype\n",
    "### LOGIC SOURCE: \n",
    "           https://phekb.org/phenotype/type-2-diabetes-mellitus\n",
    "### PATIENT DATA SOURCE: \n",
    "           We used Synthea(https://github.com/synthetichealth/synthea)\n",
    "           to generate 1,000 synethic patients\n",
    "### WARNING: The implementation information is no longer available online\n",
    "           The site (NU VAULT) which housed it was retired. We obtained the implementation\n",
    "           PDF and extracted the relevant value sets MANUALLY\n",
    "           We then added additional codes where required based on our source data (from Synthea)\n",
    "           as Synthea uses SNOMED CT for condition information whereas the supplied phenotype\n",
    "           uses ICD-9 (it's from 2012). Given that, we also then had to MAP between ICD-9\n",
    "           and SNOMED CT using UMLS.\n",
    "\n"
   ]
  },
  {
   "cell_type": "code",
   "execution_count": 31,
   "metadata": {},
   "outputs": [],
   "source": [
    "import random\n",
    "import numpy\n",
    "import pandas"
   ]
  },
  {
   "cell_type": "markdown",
   "metadata": {},
   "source": [
    "## Load Main Term List"
   ]
  },
  {
   "cell_type": "code",
   "execution_count": 32,
   "metadata": {},
   "outputs": [],
   "source": [
    "#load our terms list (again)\n",
    "term_list = pandas.read_csv(\n",
    "        'phenotype/algorithm_term_list.csv'\n",
    "        , dtype={'code': str}\n",
    "        )"
   ]
  },
  {
   "cell_type": "markdown",
   "metadata": {},
   "source": [
    "## Load and Clean Up Our (Mapped) DX Term List"
   ]
  },
  {
   "cell_type": "code",
   "execution_count": 33,
   "metadata": {},
   "outputs": [],
   "source": [
    "#load our curated dx code list\n",
    "#these are the codes produced by the prior step - the dx terms produced via the UMLS ICD-9 to SNOMED CT map\n",
    "dx_1_dm_type_1 = pandas.read_csv(\n",
    "        'phenotype/generated/terms_dx_1_dm_type_1.csv'\n",
    "        , dtype={'SNOMED_CID': str}\n",
    "        )\n",
    "dx_1_dm_type_2 = pandas.read_csv(\n",
    "        'phenotype/generated/terms_dx_1_dm_type_2.csv'\n",
    "        , dtype={'SNOMED_CID': str}\n",
    "        )\n",
    "dx_8_dm = pandas.read_csv(\n",
    "        'phenotype/generated/terms_dx_8_dm.csv'\n",
    "        , dtype={'SNOMED_CID': str}\n",
    "        )\n",
    "\n",
    "#we no longer need our ICD codes, so let's clear those out\n",
    "dx_1_dm_type_1 = dx_1_dm_type_1.drop(['ICD_CODE'], axis=1)\n",
    "dx_1_dm_type_2 = dx_1_dm_type_2.drop(['ICD_CODE'], axis=1)\n",
    "dx_8_dm = dx_8_dm.drop(['ICD_CODE'], axis=1)\n",
    "\n",
    "#add our known SNOMED customizations\n",
    "dx_1_dm_1_snomed = term_list[(term_list['algorithm'] == '1') & (term_list['domain'] =='dx' ) & (term_list['group'] =='dm_type_1' ) & (term_list['code_system'] =='SNOMED CT' ) & (term_list['include'] ==1 )]\n",
    "dx_1_dm_1_snomed = dx_1_dm_1_snomed.drop(['algorithm', 'domain', 'group', 'term', 'code_system', 'include', 'exclude', 'source'], axis=1)\n",
    "dx_1_dm_1_snomed = dx_1_dm_1_snomed.rename(index=str, columns={\"code\": \"SNOMED_CID\"})\n",
    "\n",
    "dx_1_dm_2_snomed = term_list[(term_list['algorithm'] == '1') & (term_list['domain'] =='dx' ) & (term_list['group'] =='dm_type_2' ) & (term_list['code_system'] =='SNOMED CT' ) & (term_list['include'] ==1 )]\n",
    "dx_1_dm_2_snomed = dx_1_dm_2_snomed.drop(['algorithm', 'domain', 'group', 'term', 'code_system', 'include', 'exclude', 'source'], axis=1)\n",
    "dx_1_dm_2_snomed = dx_1_dm_2_snomed.rename(index=str, columns={\"code\": \"SNOMED_CID\"})\n",
    "\n",
    "dx_8_dm_2_snomed = term_list[(term_list['algorithm'] == '8') & (term_list['domain'] =='dx' ) & (term_list['group'] =='dm' ) & (term_list['code_system'] =='SNOMED CT' ) & (term_list['include'] ==1 )]\n",
    "dx_8_dm_2_snomed = dx_8_dm_2_snomed.drop(['algorithm', 'domain', 'group', 'term', 'code_system', 'include', 'exclude', 'source'], axis=1)\n",
    "dx_8_dm_2_snomed = dx_8_dm_2_snomed.rename(index=str, columns={\"code\": \"SNOMED_CID\"})\n",
    "\n",
    "#now add those custom codes to our existing mapped term list\n",
    "dx_1_dm_type_1 = dx_1_dm_type_1.append(dx_1_dm_1_snomed)\n",
    "dx_1_dm_type_1 = dx_1_dm_type_1.drop_duplicates()\n",
    "\n",
    "dx_1_dm_type_2 = dx_1_dm_type_2.append(dx_1_dm_2_snomed)\n",
    "dx_1_dm_type_2 = dx_1_dm_type_2.drop_duplicates()\n",
    "\n",
    "dx_8_dm = dx_8_dm.append(dx_8_dm_2_snomed)\n",
    "dx_8_dm = dx_8_dm.drop_duplicates()"
   ]
  },
  {
   "cell_type": "markdown",
   "metadata": {},
   "source": [
    "## Patient Diagnoses (Conditions)"
   ]
  },
  {
   "cell_type": "code",
   "execution_count": 34,
   "metadata": {},
   "outputs": [],
   "source": [
    "# Now that we have a dx code lists, let's check out the patient data\n",
    "# we're going to load our patient data and then cross-check the supplied dx info from the patient\n",
    "# against the term map, then again against the list of valid dx buckets\n",
    "# we're then going to record our three columns of 1/0 indicators per patient\n",
    "# There are many other (better) ways to approach this, but we're going to shortcut a bit by\n",
    "# simply annotating \"yes, in matching list\" for each of the dx groups (algorithm 1 type 1, algorithm 2 type 2, algorithm 8)\n",
    "# column list: START,STOP,PATIENT,ENCOUNTER,CODE,DESCRIPTION\n",
    "# \"CODE\" represents the SNOMED CT concept\n",
    "pt_dx = pandas.read_csv(\n",
    "        'patient_data/conditions.csv'\n",
    "        , parse_dates=['START', 'STOP']\n",
    "        , dtype={'CODE': str}\n",
    "        )\n",
    "\n",
    "#now, let's go through the patient dx and annotate \"found in set\" for the appropriate dx groups\n",
    "# there are two different ways these can be assigned\n",
    "# 1) create a new column (example below)\n",
    "#   NOTE: in this case you would NOT pre-create the column in the destination data frame\n",
    "#   pt_dx = pt_dx.assign(dx_1_type_1_dm=pt_dx.CODE.isin(dx_1_dm_type_1.SNOMED_CID).astype(str))\n",
    "# 2) explicitly create a column and set the value to true/false\n",
    "#   we're going to use that example\n",
    "#   we're going to add some empty \"indicator\" columns to our patient dx data so it's\n",
    "#   it's explicit that we're doing it (again - example)\n",
    "pt_dx['dx_1_type_1_dm'] = numpy.nan\n",
    "pt_dx['dx_1_type_2_dm'] = numpy.nan\n",
    "pt_dx['dx_8_dm'] = numpy.nan\n",
    "\n",
    "pt_dx['dx_1_type_1_dm'] = pt_dx['CODE'].isin(dx_1_dm_type_1['SNOMED_CID']).astype(str)\n",
    "pt_dx['dx_1_type_2_dm'] = pt_dx['CODE'].isin(dx_1_dm_type_2['SNOMED_CID']).astype(str)\n",
    "pt_dx['dx_8_dm'] = pt_dx['CODE'].isin(dx_8_dm['SNOMED_CID']).astype(str)\n",
    "\n",
    "pt_dx.to_csv('adjusted_patient_data/conditions_with_dm_annotations.csv', sep=',')\n",
    "\n",
    "# you can visually validate with\n",
    "# print pt_dx[(pt_dx['dx_1_type_2_dm']=='True')] #NOTE: probably no records here\n",
    "# print pt_dx[(pt_dx['dx_1_type_2_dm']=='True')] #should be some\n",
    "# print pt_dx[(pt_dx['dx_8_dm']=='True')]\t\t #we forced some SNOMED terms in here"
   ]
  },
  {
   "cell_type": "markdown",
   "metadata": {},
   "source": [
    "### DX1 - Type 1 DM"
   ]
  },
  {
   "cell_type": "code",
   "execution_count": 35,
   "metadata": {},
   "outputs": [
    {
     "name": "stdout",
     "output_type": "stream",
     "text": [
      "False    9069\n",
      "Name: dx_1_type_1_dm, dtype: int64\n"
     ]
    },
    {
     "data": {
      "image/png": "[encoded data removed]",
      "text/plain": [
       "<Figure size 432x288 with 1 Axes>"
      ]
     },
     "metadata": {
      "needs_background": "light"
     },
     "output_type": "display_data"
    }
   ],
   "source": [
    "print pt_dx['dx_1_type_1_dm'].value_counts()\n",
    "pt_dx['dx_1_type_1_dm'].value_counts().plot(kind='barh');"
   ]
  },
  {
   "cell_type": "markdown",
   "metadata": {},
   "source": [
    "### DX1 - Type 2 DM"
   ]
  },
  {
   "cell_type": "code",
   "execution_count": 36,
   "metadata": {},
   "outputs": [
    {
     "name": "stdout",
     "output_type": "stream",
     "text": [
      "False    8897\n",
      "True      172\n",
      "Name: dx_1_type_2_dm, dtype: int64\n"
     ]
    },
    {
     "data": {
      "image/png": "[encoded data removed]",
      "text/plain": [
       "<Figure size 432x288 with 1 Axes>"
      ]
     },
     "metadata": {
      "needs_background": "light"
     },
     "output_type": "display_data"
    }
   ],
   "source": [
    "print pt_dx['dx_1_type_2_dm'].value_counts()\n",
    "pt_dx['dx_1_type_2_dm'].value_counts().plot(kind='barh');"
   ]
  },
  {
   "cell_type": "markdown",
   "metadata": {},
   "source": [
    "### DX8 - Any DM"
   ]
  },
  {
   "cell_type": "code",
   "execution_count": 37,
   "metadata": {},
   "outputs": [
    {
     "name": "stdout",
     "output_type": "stream",
     "text": [
      "False    8981\n",
      "True       88\n",
      "Name: dx_8_dm, dtype: int64\n"
     ]
    },
    {
     "data": {
      "image/png": "[encoded data removed]",
      "text/plain": [
       "<Figure size 432x288 with 1 Axes>"
      ]
     },
     "metadata": {
      "needs_background": "light"
     },
     "output_type": "display_data"
    }
   ],
   "source": [
    "print pt_dx['dx_8_dm'].value_counts()\n",
    "pt_dx['dx_8_dm'].value_counts().plot(kind='barh');"
   ]
  },
  {
   "cell_type": "markdown",
   "metadata": {},
   "source": [
    "## Meds"
   ]
  },
  {
   "cell_type": "code",
   "execution_count": 38,
   "metadata": {},
   "outputs": [],
   "source": [
    "# load the patient meds\n",
    "pt_med = pandas.read_csv(\n",
    "        'patient_data/medications.csv'\n",
    "        , parse_dates=['START', 'STOP']\n",
    "        , dtype={'CODE': str}\n",
    "        )\n",
    "\n",
    "# Now let's do meds - which should be easier because we don't need to map terms - everything is RxNorm\n",
    "meds_type_1_dm = term_list[(term_list['algorithm'] == '*') & (term_list['domain'] =='med' ) & (term_list['group'] =='dm_type_1' ) & (term_list['code_system'] =='RxNorm' ) & (term_list['include'] ==1 )]\n",
    "meds_type_2_dm = term_list[(term_list['algorithm'] == '*') & (term_list['domain'] =='med' ) & (term_list['group'] =='dm_type_2' ) & (term_list['code_system'] =='RxNorm' ) & (term_list['include'] ==1 )]\n",
    "meds_8_supply_dm = term_list[(term_list['algorithm'] == '8') & (term_list['domain'] =='supply' ) & (term_list['group'] =='dm' ) & (term_list['code_system'] =='RxNorm' ) & (term_list['include'] ==1 )]\n",
    "\n",
    "#print meds_type_1_dm\n",
    "#print meds_type_2_dm\n",
    "\n",
    "pt_med['med_type_1_dm'] = numpy.nan\n",
    "pt_med['med_type_2_dm'] = numpy.nan\n",
    "pt_med['med_8_supply_dm'] = numpy.nan\n",
    "\n",
    "pt_med['med_type_1_dm'] = pt_med['CODE'].isin(meds_type_1_dm['code']).astype(str)\n",
    "pt_med['med_type_2_dm'] = pt_med['CODE'].isin(meds_type_2_dm['code']).astype(str)\n",
    "pt_med['med_8_supply_dm'] = pt_med['CODE'].isin(meds_8_supply_dm['code']).astype(str)\n",
    "\n",
    "# visual validation if you need to\n",
    "#print pt_med[(pt_med['med_type_1_dm']=='True')]\n",
    "#print pt_med[(pt_med['med_type_2_dm']=='True')]\n",
    "#print pt_med[(pt_med['med_8_supply_dm']=='True')] #you're not likely to get matches from our data - we don't have supplies\n",
    "\n",
    "pt_med.to_csv('adjusted_patient_data/medication_with_dm_annotations.csv', sep=',')"
   ]
  },
  {
   "cell_type": "markdown",
   "metadata": {},
   "source": [
    "## Labs"
   ]
  },
  {
   "cell_type": "code",
   "execution_count": 39,
   "metadata": {},
   "outputs": [],
   "source": [
    "# load the labs - larger file\n",
    "pt_lab = pandas.read_csv(\n",
    "        'patient_data/observations.csv'\n",
    "        , parse_dates=['DATE']\n",
    "        , dtype={'CODE': str}\n",
    "        )\n",
    "\n",
    "# again, labs should be easier to code becuase we're using Loinc in both sets\n",
    "lab_dm = term_list[(term_list['algorithm'] == '*') & (term_list['domain'] =='lab' ) & (term_list['group'] =='dm' ) & (term_list['code_system'] =='LOINC' ) & (term_list['include'] ==1 )]\n",
    "\n",
    "pt_lab['lab_dm'] = numpy.nan\n",
    "pt_lab['lab_dm_abnormal'] = numpy.nan\n",
    "\n",
    "pt_lab['lab_dm'] = pt_lab['CODE'].isin(lab_dm['code']).astype(str)\n",
    "\n",
    "# visual validations\n",
    "#print pt_lab[(pt_lab['lab_dm']=='True')]\n",
    "\n",
    "# if lab :type == random-glucose\n",
    "# \tand lab :value >= 110 // (mg/dl)\n",
    "# or lab :type == fasting-glucose\n",
    "# \tand lab :value >= 110 // (mg/dl)\n",
    "# or lab :type == HBA1c\n",
    "# \tand lab :value >= 6.0 // (percent)\n",
    "\n",
    "# this is a bad approach, but this is JUST for demo purposes, so we're going to simplify\n",
    "# we're going to filter the list to those labs where we have a glucose reading (pt_lab['lab_dm'] == 'True')\n",
    "# and where we get a specific value comparison for a particular unit type\n",
    "# >= 110.0\tmg/dL\n",
    "# >= 6.0\t%\n",
    "\n",
    "#in this case we're going to use a closure example\n",
    "def lab_abnormal(lab):\n",
    "    if lab['lab_dm'] == 'True':\n",
    "        if lab['UNITS'] == '%' and lab['TYPE'] == 'numeric' and float(lab['VALUE']) >= 6.0:\n",
    "            return 'True'\n",
    "        elif lab['UNITS'] == 'mg/dL' and lab['TYPE'] == 'numeric' and float(lab['VALUE']) >= 110.0:\n",
    "            return 'True'\n",
    "        else:\n",
    "            return 'False'\n",
    "    else:\n",
    "        return 'False'\n",
    "\n",
    "pt_lab['lab_dm_abnormal'] = pt_lab.apply(lab_abnormal, axis=1)\n",
    "\n",
    "pt_lab.to_csv('adjusted_patient_data/observations_with_dm_annotations.csv', sep=',')"
   ]
  },
  {
   "cell_type": "markdown",
   "metadata": {},
   "source": [
    "### Lab - DM Lab Abnormal"
   ]
  },
  {
   "cell_type": "code",
   "execution_count": 40,
   "metadata": {},
   "outputs": [
    {
     "name": "stdout",
     "output_type": "stream",
     "text": [
      "False    247178\n",
      "True       3462\n",
      "Name: lab_dm_abnormal, dtype: int64\n"
     ]
    },
    {
     "data": {
      "image/png": "[encoded data removed]",
      "text/plain": [
       "<Figure size 432x288 with 1 Axes>"
      ]
     },
     "metadata": {
      "needs_background": "light"
     },
     "output_type": "display_data"
    }
   ],
   "source": [
    "print pt_lab['lab_dm_abnormal'].value_counts()\n",
    "pt_lab['lab_dm_abnormal'].value_counts().plot(kind='barh');"
   ]
  },
  {
   "cell_type": "markdown",
   "metadata": {},
   "source": [
    "## Patients - Annotate with Indicators"
   ]
  },
  {
   "cell_type": "markdown",
   "metadata": {},
   "source": [
    "### Load Patient Data"
   ]
  },
  {
   "cell_type": "code",
   "execution_count": 41,
   "metadata": {},
   "outputs": [],
   "source": [
    "#Let's load the patients and annotate the findings we need for computing things later\n",
    "pt = pandas.read_csv(\n",
    "        'patient_data/patients.csv'\n",
    "        , parse_dates=['BIRTHDATE','DEATHDATE']\n",
    "        )"
   ]
  },
  {
   "cell_type": "markdown",
   "metadata": {},
   "source": [
    "### Append DX Indicators"
   ]
  },
  {
   "cell_type": "code",
   "execution_count": 42,
   "metadata": {},
   "outputs": [],
   "source": [
    "#Count of distinct dates of T1DM DX\n",
    "t1dm_dx = pt_dx[pt_dx['dx_1_type_1_dm'] == 'True'].groupby('PATIENT').agg({'START':{'t1dm_dx_count':pandas.Series.nunique}})\n",
    "t1dm_dx.columns = t1dm_dx.columns.droplevel(0)\n",
    "pt = pt.merge(t1dm_dx, left_on='Id', right_on='PATIENT', how='left')\n",
    "pt[['t1dm_dx_count']] = pt[['t1dm_dx_count']].fillna(value=0)\n",
    "\n",
    "#Count of distinct dates of T2DM DX\n",
    "t2dm_dx = pt_dx[pt_dx['dx_1_type_2_dm'] == 'True'].groupby('PATIENT').agg({'START':{'t2dm_dx_count':pandas.Series.nunique}})\n",
    "t2dm_dx.columns = t2dm_dx.columns.droplevel(0)\n",
    "pt = pt.merge(t2dm_dx, left_on='Id', right_on='PATIENT', how='left')\n",
    "pt[['t2dm_dx_count']] = pt[['t2dm_dx_count']].fillna(value=0)\n",
    "\n",
    "# Count of distinct dates of DM-related DX\n",
    "dm_dx = pt_dx[pt_dx['dx_8_dm'] == 'True'].groupby('PATIENT').agg({'START':{'dm_dx_count':pandas.Series.nunique}})\n",
    "dm_dx.columns = dm_dx.columns.droplevel(0)\n",
    "pt = pt.merge(dm_dx, left_on='Id', right_on='PATIENT', how='left')\n",
    "pt[['dm_dx_count']] = pt[['dm_dx_count']].fillna(value=0)"
   ]
  },
  {
   "cell_type": "markdown",
   "metadata": {},
   "source": [
    "### Append Med Indicators"
   ]
  },
  {
   "cell_type": "code",
   "execution_count": 43,
   "metadata": {},
   "outputs": [
    {
     "name": "stderr",
     "output_type": "stream",
     "text": [
      "/anaconda2/lib/python2.7/site-packages/ipykernel_launcher.py:2: FutureWarning: using a dict on a Series for aggregation\n",
      "is deprecated and will be removed in a future version\n",
      "  \n",
      "/anaconda2/lib/python2.7/site-packages/ipykernel_launcher.py:9: FutureWarning: using a dict on a Series for aggregation\n",
      "is deprecated and will be removed in a future version\n",
      "  if __name__ == '__main__':\n",
      "/anaconda2/lib/python2.7/site-packages/ipykernel_launcher.py:16: FutureWarning: using a dict on a Series for aggregation\n",
      "is deprecated and will be removed in a future version\n",
      "  app.launch_new_instance()\n"
     ]
    }
   ],
   "source": [
    "# First date of Rx for T2DM medication\n",
    "t2dm_med_first = pt_med[pt_med['med_type_2_dm'] == 'True'].groupby('PATIENT')['START'].agg({'START':{'t2dm_med_first':'min'}})\n",
    "t2dm_med_first.columns = t2dm_med_first.columns.droplevel(0)\n",
    "pt = pt.merge(t2dm_med_first, left_on='Id', right_on='PATIENT', how='left')\n",
    "pt[['t2dm_med_first']] = pt[['t2dm_med_first']].fillna(value=0)\n",
    "\n",
    "# First date of Rx for T1DM medication\n",
    "#t1dm_med = pt_med[pt_med['med_type_1_dm'] == 'True'].groupby('PATIENT')['START'].agg({'count':pandas.Series.nunique})\n",
    "t1dm_med_first = pt_med[pt_med['med_type_2_dm'] == 'True'].groupby('PATIENT')['START'].agg({'START':{'t1dm_med_first':'min'}})\n",
    "t1dm_med_first.columns = t1dm_med_first.columns.droplevel(0)\n",
    "pt = pt.merge(t1dm_med_first, left_on='Id', right_on='PATIENT', how='left')\n",
    "pt[['t1dm_med_first']] = pt[['t1dm_med_first']].fillna(value=0)\n",
    "\n",
    "# Count DM-related medications and supplies by distinct Rx date\n",
    "# for now - because we don't have med supplies - we're just going to use the dm med counts\n",
    "pt_dm_meds = pt_med[(pt_med['med_type_2_dm'] == 'True')|(pt_med['med_type_1_dm'] == 'True')].groupby('PATIENT')['START'].agg({'PATIENT':{'dm_med_count':'count'}})\n",
    "pt_dm_meds.columns = pt_dm_meds.columns.droplevel(0)\n",
    "pt = pt.merge(pt_dm_meds, left_on='Id', right_on='PATIENT', how='left')\n",
    "pt[['dm_med_count']] = pt[['dm_med_count']].fillna(value=0)"
   ]
  },
  {
   "cell_type": "markdown",
   "metadata": {},
   "source": [
    "### Append Lab Indicators"
   ]
  },
  {
   "cell_type": "code",
   "execution_count": 44,
   "metadata": {},
   "outputs": [],
   "source": [
    "# Check for glucose lab performed\n",
    "pt['lab_dm'] = numpy.nan\n",
    "pt_lab_dm = pt_lab[(pt_lab['lab_dm'] == 'True')]\n",
    "pt['lab_dm'] = pt['Id'].isin(pt_lab_dm['PATIENT']).astype(str)\n",
    "#visual validation\n",
    "#print pt[(pt['lab_dm']=='True')] \n",
    "\n",
    "# Check for abnormal lab\n",
    "pt_dx['lab_dm_abnormal'] = numpy.nan\n",
    "lab_dm_abnormal = pt_lab[(pt_lab['lab_dm_abnormal'] == 'True')]\n",
    "pt['lab_dm_abnormal'] = pt['Id'].isin(lab_dm_abnormal['PATIENT']).astype(str)"
   ]
  },
  {
   "cell_type": "markdown",
   "metadata": {},
   "source": [
    "### Append Family History of Diabetes"
   ]
  },
  {
   "cell_type": "code",
   "execution_count": 45,
   "metadata": {},
   "outputs": [
    {
     "name": "stdout",
     "output_type": "stream",
     "text": [
      "False    1099\n",
      "True      119\n",
      "Name: diabtes_history, dtype: int64\n"
     ]
    },
    {
     "data": {
      "image/png": "[encoded data removed]",
      "text/plain": [
       "<Figure size 432x288 with 1 Axes>"
      ]
     },
     "metadata": {
      "needs_background": "light"
     },
     "output_type": "display_data"
    }
   ],
   "source": [
    "# Check for family history of DM\n",
    "# We don't have this data, so we're just going to randomize this\n",
    "diabetes_choices = [True, False]\n",
    "diabetes_weights = [0.10, 0.90]\n",
    "def random_diabetes_history(patient):\n",
    "    return numpy.random.choice(diabetes_choices, p=diabetes_weights).astype(str)\n",
    "\n",
    "pt['diabtes_history'] = pt.apply(random_diabetes_history, axis=1)\n",
    "\n",
    "print pt['diabtes_history'].value_counts()\n",
    "pt['diabtes_history'].value_counts().plot(kind='barh');"
   ]
  },
  {
   "cell_type": "markdown",
   "metadata": {},
   "source": [
    "### Append Office Visit Count"
   ]
  },
  {
   "cell_type": "code",
   "execution_count": 46,
   "metadata": {},
   "outputs": [
    {
     "name": "stderr",
     "output_type": "stream",
     "text": [
      "/anaconda2/lib/python2.7/site-packages/ipykernel_launcher.py:11: FutureWarning: using a dict on a Series for aggregation\n",
      "is deprecated and will be removed in a future version\n",
      "  # This is added back by InteractiveShellApp.init_path()\n"
     ]
    }
   ],
   "source": [
    "#Count of distinct dates for in-person office encounters with a physician\n",
    "# for this one we're cheating - all of our encounter types (right now) are face to face\n",
    "# ENCOUNTERCLASS: ambulatory, emergency, inpatient, outpatient, urgentcare, wellness\n",
    "pt_enc = pandas.read_csv(\n",
    "        'patient_data/encounters.csv'\n",
    "        , parse_dates=['START','STOP']\n",
    "        )\n",
    "\n",
    "enc_types = ['ambulatory', 'emergency', 'inpatient', 'outpatient', 'urgentcare', 'wellness']\n",
    "\n",
    "enc_count = pt_enc[pt_enc['ENCOUNTERCLASS'].isin(enc_types)].groupby('PATIENT')['START'].agg({'PATIENT':{'enc_count':'count'}})\n",
    "enc_count.columns = enc_count.columns.droplevel(0)\n",
    "pt = pt.merge(enc_count, left_on='Id', right_on='PATIENT', how='left')\n",
    "pt[['enc_count']] = pt[['enc_count']].fillna(value=0)"
   ]
  },
  {
   "cell_type": "markdown",
   "metadata": {},
   "source": [
    "## Case / Control \n",
    "For reference, the columns we intend to use are...\n",
    "* t1dm_dx_count\n",
    "* t2dm_dx_count\n",
    "* dm_dx_count\n",
    "* t2dm_med_first \n",
    "* t1dm_med_first\n",
    "* lab_dm\n",
    "* lab_dm_abnormal\n",
    "* dm_med_count   \n",
    "* diabtes_history\n",
    "* enc_count"
   ]
  },
  {
   "cell_type": "markdown",
   "metadata": {},
   "source": [
    "## T2DM Control\n",
    "* if dm-dx-dt-cnt(pt) == 0\n",
    "* and glucose-lab-exists(pt) == true\n",
    "* and abnormal-lab(pt) == false\n",
    "* and enctrs-dt-cnt(pt) >= 2\n",
    "* and dm-meds-supplies-rx-dt-cnt(pt) == 0\n",
    "* and fam-hist-of-dm(pt) == false"
   ]
  },
  {
   "cell_type": "code",
   "execution_count": 47,
   "metadata": {},
   "outputs": [],
   "source": [
    "######### Set up our control indicators\n",
    "pt['pt_dm_control'] = numpy.nan\n",
    "def pt_dm_control_check(pt):\n",
    "    if (\n",
    "    \t(pt['dm_dx_count'] == 0) and\n",
    "        (pt['lab_dm'] =='True' ) and \n",
    "        (pt['lab_dm_abnormal'] =='False' ) and \n",
    "        (pt['enc_count'] >=2 ) and \n",
    "        (pt['dm_med_count'] ==0 ) and \n",
    "        (pt['diabtes_history'] == 'False' )\n",
    "        ):\n",
    "        return 'True'\n",
    "    else:\n",
    "        return 'False'\n",
    "\n",
    "pt['pt_dm_control'] = pt.apply(pt_dm_control_check, axis=1)"
   ]
  },
  {
   "cell_type": "code",
   "execution_count": 52,
   "metadata": {},
   "outputs": [
    {
     "name": "stdout",
     "output_type": "stream",
     "text": [
      "False    1130\n",
      "True       88\n",
      "Name: pt_dm_control, dtype: int64\n"
     ]
    },
    {
     "data": {
      "image/png": "[encoded data removed]",
      "text/plain": [
       "<Figure size 432x288 with 1 Axes>"
      ]
     },
     "metadata": {
      "needs_background": "light"
     },
     "output_type": "display_data"
    }
   ],
   "source": [
    "print pt['pt_dm_control'].value_counts()\n",
    "pt['pt_dm_control'].value_counts().plot(kind='barh');"
   ]
  },
  {
   "cell_type": "code",
   "execution_count": 48,
   "metadata": {},
   "outputs": [],
   "source": [
    "#if you want to output some validation\n",
    "#print pt[(pt['dm_dx_count']==0)]\n",
    "#print pt[(pt['lab_dm']=='True')]\n",
    "#print pt[(pt['lab_dm_abnormal']=='False')]\n",
    "#print pt[(pt['enc_count']>=2)]\n",
    "#print pt[(pt['dm_med_count']>=0)].shape\n",
    "#print pt[(pt['diabtes_history']=='False')].shape\n",
    "#print pt[(pt['pt_dm_control']=='True')]"
   ]
  },
  {
   "cell_type": "markdown",
   "metadata": {},
   "source": [
    "## T2DM Case\n",
    "\n",
    "* t2dm-case-selection(pt)\n",
    "  * status = unknown\n",
    "  * 1 if \n",
    "    *     t1dm-dx-dt-cnt(pt) == 0 ( Algorithm 2\n",
    "    *     and t2dm-dx-dt-cnt(pt) > 0 ( Algorithm 3\n",
    "    *     and t2dm-rx-dt(pt) != null ( Algorithm 4\n",
    "    *     and t1dm-rx-dt(pt) != null ( Algorithm 5\n",
    "    *     and t2dm-rx-dt(pt) < t1dm-rx-dt(pt)\n",
    "      *   status = case\n",
    "  * 2 elseif \n",
    "    *     t1dm-dx-dt-cnt(pt) == 0\n",
    "    *     and t2dm-dx-dt-cnt(pt) > 0\n",
    "    *     and t1dm-rx-dt(pt) == null\n",
    "    *     and t2dm-rx-dt(pt) != null\n",
    "      *   status = case\n",
    "  * 3 elseif\n",
    "    *     t1dm-dx-dt-cnt(pt) == 0\n",
    "    *     and t2dm-dx-dt-cnt(pt) > 0\n",
    "    *     and t1dm-rx-dt(pt) == null\n",
    "    *     and t2dm-rx-dt(pt) == null\n",
    "    *     and abnormal-lab(pt) == true ( Algorithm 6\n",
    "      *   status = case\n",
    "  * 4 elseif\n",
    "    *     t1dm-dx-dt-cnt(pt) == 0\n",
    "    *     and t2dm-dx-dt-cnt(pt) == 0\n",
    "    *     and t2dm-rx-dt(pt) != null\n",
    "    *     and abnormal-lab(pt) == true\n",
    "      *   status = case\n",
    "  * 5 elseif \n",
    "    *     t1dm-dx-dt-cnt(pt) == 0\n",
    "    *     and t2dm-dx-dt-cnt(pt) > 0\n",
    "    *     and t1dm-rx-dt(pt) != null\n",
    "    *     and t2dm-rx-dt(pt) == null\n",
    "    *     and t2dm-physcn-dx-dt-cnt(pt) >= 2 ( Algorithm 7\n",
    "      *   status = case\n",
    "  * (else false)"
   ]
  },
  {
   "cell_type": "code",
   "execution_count": 49,
   "metadata": {},
   "outputs": [],
   "source": [
    "######### Set up our case indicators\n",
    "pt['pt_dm_case'] = numpy.nan\n",
    "def pt_dm_case_check(pt):\n",
    "    if (\n",
    "        pt['t1dm_dx_count'] == 0\n",
    "        and pt['t2dm_dx_count'] > 0\n",
    "        and pandas.notna(pt['t2dm_med_first'])# != null\n",
    "        and pandas.notna(pt['t1dm_med_first'])# != null\n",
    "        and pt['t2dm_med_first'] < pt['t1dm_med_first']\n",
    "        ):\n",
    "        return 'True'\n",
    "    elif (\n",
    "        pt['t1dm_dx_count'] == 0\n",
    "        and pt['t2dm_dx_count'] > 0\n",
    "        and pandas.isna(pt['t1dm_med_first'])# == null\n",
    "        and notna(pt['t2dm_med_first'])# != null\n",
    "        ):\n",
    "        return 'True'\n",
    "    elif (\n",
    "        pt['t1dm_dx_count'] == 0\n",
    "        and pt['t2dm_dx_count'] > 0\n",
    "        and pandas.isna(pt['t1dm_med_first'])# == null\n",
    "        and pandas.isna(pt['t2dm_med_first'])# == null\n",
    "        and pt['lab_dm_abnormal'] == 'True'\n",
    "        ):\n",
    "        return 'True'\n",
    "    elif (\n",
    "        pt['t1dm_dx_count'] == 0\n",
    "        and pt['t2dm_dx_count'] == 0\n",
    "        and pandas.notna(pt['t2dm_med_first'])# != null\n",
    "        and pt['lab_dm_abnormal'] == 'True'\n",
    "        ):\n",
    "        return 'True'\n",
    "    elif (\n",
    "        pt['t1dm_dx_count'] == 0\n",
    "        and pt['t2dm_dx_count'] > 0\n",
    "        and pandas.notna(pt['t1dm_med_first'])# != null\n",
    "        and pandas.isna(pt['t2dm_med_first'])# == null\n",
    "        and pt['t2dm_dx_count'] >= 2\n",
    "        ):\n",
    "        return 'True'\n",
    "    else:\n",
    "        return 'False'\n",
    "\n",
    "pt['pt_dm_case'] = pt.apply(pt_dm_case_check, axis=1)"
   ]
  },
  {
   "cell_type": "code",
   "execution_count": 53,
   "metadata": {},
   "outputs": [
    {
     "name": "stdout",
     "output_type": "stream",
     "text": [
      "False    879\n",
      "True     339\n",
      "Name: pt_dm_case, dtype: int64\n"
     ]
    },
    {
     "data": {
      "image/png": "[encoded data removed]",
      "text/plain": [
       "<Figure size 432x288 with 1 Axes>"
      ]
     },
     "metadata": {
      "needs_background": "light"
     },
     "output_type": "display_data"
    }
   ],
   "source": [
    "print pt['pt_dm_case'].value_counts()\n",
    "pt['pt_dm_case'].value_counts().plot(kind='barh');"
   ]
  },
  {
   "cell_type": "markdown",
   "metadata": {},
   "source": [
    "## Write Out The Patient Annotation File"
   ]
  },
  {
   "cell_type": "code",
   "execution_count": 50,
   "metadata": {},
   "outputs": [],
   "source": [
    "### write out the patient\n",
    "pt.to_csv('adjusted_patient_data/patient_with_dm_annotations.csv', sep=',')"
   ]
  }
 ],
 "metadata": {
  "kernelspec": {
   "display_name": "Python 2",
   "language": "python",
   "name": "python2"
  },
  "language_info": {
   "codemirror_mode": {
    "name": "ipython",
    "version": 2
   },
   "file_extension": ".py",
   "mimetype": "text/x-python",
   "name": "python",
   "nbconvert_exporter": "python",
   "pygments_lexer": "ipython2",
   "version": "2.7.15"
  }
 },
 "nbformat": 4,
 "nbformat_minor": 2
}
